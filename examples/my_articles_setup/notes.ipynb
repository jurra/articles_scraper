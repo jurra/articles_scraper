{
 "metadata": {
  "language_info": {
   "codemirror_mode": {
    "name": "ipython",
    "version": 3
   },
   "file_extension": ".py",
   "mimetype": "text/x-python",
   "name": "python",
   "nbconvert_exporter": "python",
   "pygments_lexer": "ipython3",
   "version": "3.9.6"
  },
  "orig_nbformat": 4,
  "kernelspec": {
   "name": "python3",
   "display_name": "Python 3.9.6 64-bit"
  },
  "interpreter": {
   "hash": "340f02591a7034ba7d2cf0b9a658107515607a6c0350022309aeac3c493634d7"
  }
 },
 "nbformat": 4,
 "nbformat_minor": 2,
 "cells": [
  {
   "cell_type": "code",
   "execution_count": 1,
   "source": [
    "### crud.py ###\n",
    "from sqlalchemy import create_engine\n",
    "from sqlalchemy.orm import sessionmaker\n",
    "from modules.models import *\n",
    "from modules.add_article import *\n",
    "import pandas\n",
    "\n",
    "from datetime import *\n",
    "\n",
    "from examples.my_articles_setup.config import config"
   ],
   "outputs": [],
   "metadata": {}
  },
  {
   "cell_type": "code",
   "execution_count": 2,
   "source": [
    "# Postgres username, password, and database name\n",
    "params = config()\n",
    "\n",
    "postgres_str = ('postgresql+psycopg2://{username}:{password}@{ipaddress}:{port}/{dbname}'\n",
    ".format(\n",
    "    username=params[\"user\"],\n",
    "    password=params[\"password\"],\n",
    "    ipaddress=params[\"host\"],\n",
    "    dbname=params[\"database\"],\n",
    "    port=5432)\n",
    ")"
   ],
   "outputs": [],
   "metadata": {}
  },
  {
   "cell_type": "code",
   "execution_count": 3,
   "source": [
    "# Create the connection\n",
    "cnx = create_engine(postgres_str)\n",
    "Base.metadata.bind = cnx\n",
    "Base.metadata.create_all(cnx)"
   ],
   "outputs": [],
   "metadata": {}
  },
  {
   "cell_type": "code",
   "execution_count": 4,
   "source": [
    "# Spec for a module to be tested\n",
    "\n",
    "# add_new_article(\n",
    "#     session=s, \n",
    "#     article_title=\"Example Title\",\n",
    "#     article_text=\"Example Text\", \n",
    "#     article_link=\"http://example.com\",\n",
    "#     accessed_date=pandas.Timestamp(\"2018-01-01 00:00:00\"),\n",
    "#     publishing_date=pandas.Timestamp(\"2018-01-01 00:00:00\"),\n",
    "#     author_name=\"Example Author\",\n",
    "#     publisher_name=\"Example Publisher\",\n",
    "#     publisher_url=\"http://example.publisher.org\"\n",
    "# )"
   ],
   "outputs": [],
   "metadata": {}
  },
  {
   "cell_type": "code",
   "execution_count": 9,
   "source": [
    "Session = sessionmaker(bind=cnx)        \n",
    "s = Session()    # set  \n",
    "\n",
    "# Add the two nodes on respective tables\n",
    "article = Article(\n",
    "    title=\"Example Title\",\n",
    "    full_text=\"Example Text\", \n",
    "    article_link=\"http://example.com\",\n",
    "    accessed_date=pandas.Timestamp(\"2018-01-01 00:00:00\"),\n",
    "    publishing_date=pandas.Timestamp(\"2018-01-01 00:00:00\"),\n",
    "    \n",
    "    # publisher_name=\"Example Publisher\",\n",
    "    # publisher_url=\"http://example.publisher.org\"\n",
    ")\n",
    "\n",
    "author  = Author(\n",
    "    first_name=\"Fidelia\",\n",
    "    last_name=\"Example Author\"\n",
    ")\n",
    "\n",
    "publisher = Publisher(\n",
    "    name=\"Example Publisher\",\n",
    "    url=\"http://example.publisher.org\"\n",
    ")\n",
    "\n",
    "try:\n",
    "    s.add(article)\n",
    "    s.add(author)\n",
    "    s.add(publisher)\n",
    "    article.authors.append(author) # Add relationship to the children property\n",
    "    article.publishers.append(publisher) # Add relationship to the children property\n",
    "except:\n",
    "    s.rollback()\n",
    "    raise\n",
    "else:\n",
    "    s.commit()"
   ],
   "outputs": [],
   "metadata": {}
  },
  {
   "cell_type": "code",
   "execution_count": 10,
   "source": [
    "# query articles in database\n",
    "articles = s.query(Article).all()\n",
    "print(articles)"
   ],
   "outputs": [
    {
     "output_type": "stream",
     "name": "stdout",
     "text": [
      "[<modules.models.Article object at 0x7f01911522e0>]\n"
     ]
    }
   ],
   "metadata": {}
  },
  {
   "cell_type": "code",
   "execution_count": 7,
   "source": [
    "# Base.metadata.drop_all(cnx)\n",
    "# close session and connection\n",
    "s.close_all()"
   ],
   "outputs": [
    {
     "output_type": "stream",
     "name": "stderr",
     "text": [
      "<ipython-input-7-034c853e53f1>:3: SADeprecationWarning: The Session.close_all() method is deprecated and will be removed in a future release.  Please refer to session.close_all_sessions(). (deprecated since: 1.3)\n",
      "  s.close_all()\n"
     ]
    }
   ],
   "metadata": {}
  }
 ]
}