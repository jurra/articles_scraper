{
 "metadata": {
  "language_info": {
   "codemirror_mode": {
    "name": "ipython",
    "version": 3
   },
   "file_extension": ".py",
   "mimetype": "text/x-python",
   "name": "python",
   "nbconvert_exporter": "python",
   "pygments_lexer": "ipython3",
   "version": "3.9.6"
  },
  "orig_nbformat": 4,
  "kernelspec": {
   "name": "python3",
   "display_name": "Python 3.9.6 64-bit (conda)"
  },
  "interpreter": {
   "hash": "340f02591a7034ba7d2cf0b9a658107515607a6c0350022309aeac3c493634d7"
  }
 },
 "nbformat": 4,
 "nbformat_minor": 2,
 "cells": [
  {
   "source": [
    "# Notes on using sqlalchemy\n",
    "\n",
    "- Add a book using the `Session.add()` method directly\n",
    "- Add a book using a  "
   ],
   "cell_type": "markdown",
   "metadata": {}
  },
  {
   "cell_type": "code",
   "execution_count": 11,
   "metadata": {},
   "outputs": [],
   "source": [
    "import examples.db_with_python.crud as crud "
   ]
  },
  {
   "cell_type": "code",
   "execution_count": 6,
   "metadata": {},
   "outputs": [],
   "source": [
    "s.add(\n",
    "    Book(\n",
    "    title='War and Pease',\n",
    "    author='Leon Tolstoi',\n",
    "    pages=775,\n",
    "    published=datetime(1876, 11, 18)\n",
    "    )\n",
    ")\n",
    "\n",
    "# commit to the database\n",
    "s.commit()"
   ]
  },
  {
   "source": [
    "## Add books using a crud module"
   ],
   "cell_type": "markdown",
   "metadata": {}
  },
  {
   "cell_type": "code",
   "execution_count": 12,
   "metadata": {},
   "outputs": [
    {
     "output_type": "execute_result",
     "data": {
      "text/plain": [
       "<Book(title='Once upon a time', author='Jose Mantes', pages=900, published=1876-11-18)>"
      ]
     },
     "metadata": {},
     "execution_count": 12
    }
   ],
   "source": [
    "crud.add_book(\n",
    "        title=\"Once upon a time\", \n",
    "        author=\"Jose Mantes\", \n",
    "        published=datetime(1876, 11, 18),\n",
    "        pages=900)\n",
    "\n",
    "s.query(Book).filter(Book.author.ilike('Jose Mantes')).first()"
   ]
  },
  {
   "cell_type": "code",
   "execution_count": 4,
   "metadata": {},
   "outputs": [
    {
     "output_type": "stream",
     "name": "stdout",
     "text": [
      "<Book(title='War and Pease', author='Leon Tolstoi', pages=775, published=1876-11-18)>\n[<Book(title='Machine Learning: A Probabilistic Perspective', author='Kevin Murphy', pages=1104, published=2012-08-24)>]\n"
     ]
    }
   ],
   "source": [
    "book = Book(\n",
    "    title='War and Pease',\n",
    "    author='Leon Tolstoi',\n",
    "    pages=775,\n",
    "    published=datetime(1876, 11, 18)\n",
    ")\n",
    "\n",
    "a = s.query(Book).filter(Book.title.ilike('war and pease')).first()\n",
    "b = s.query(Book).filter(Book.author.ilike('Kevin Murphy')).all()\n",
    "\n",
    "print(a)\n",
    "print(b)"
   ]
  },
  {
   "cell_type": "code",
   "execution_count": null,
   "metadata": {},
   "outputs": [],
   "source": []
  }
 ]
}