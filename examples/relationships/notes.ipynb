{
 "metadata": {
  "language_info": {
   "codemirror_mode": {
    "name": "ipython",
    "version": 3
   },
   "file_extension": ".py",
   "mimetype": "text/x-python",
   "name": "python",
   "nbconvert_exporter": "python",
   "pygments_lexer": "ipython3",
   "version": "3.9.6"
  },
  "orig_nbformat": 4,
  "kernelspec": {
   "name": "python3",
   "display_name": "Python 3.9.6 64-bit (conda)"
  },
  "interpreter": {
   "hash": "340f02591a7034ba7d2cf0b9a658107515607a6c0350022309aeac3c493634d7"
  }
 },
 "nbformat": 4,
 "nbformat_minor": 2,
 "cells": [
  {
   "cell_type": "code",
   "execution_count": 10,
   "metadata": {},
   "outputs": [],
   "source": [
    "### crud.py ###\n",
    "from sqlalchemy import create_engine\n",
    "from sqlalchemy.orm import sessionmaker\n",
    "from examples.relationships.models import *\n",
    "\n",
    "from datetime import *\n",
    "\n",
    "import examples.relationships.config as config"
   ]
  },
  {
   "cell_type": "code",
   "execution_count": 11,
   "metadata": {},
   "outputs": [
    {
     "output_type": "stream",
     "name": "stdout",
     "text": [
      "Connected successfully to db\n"
     ]
    }
   ],
   "source": [
    "engine = create_engine(config.get_db_uri())\n",
    "Session = sessionmaker(bind=engine)        \n",
    "s = Session()    # set                      \n",
    "\n",
    "# Create all tables from models\n",
    "Base.metadata.create_all(engine)"
   ]
  },
  {
   "cell_type": "code",
   "execution_count": 12,
   "metadata": {},
   "outputs": [],
   "source": [
    "Base.metadata.drop_all(engine)"
   ]
  },
  {
   "cell_type": "code",
   "execution_count": 23,
   "metadata": {},
   "outputs": [
    {
     "output_type": "stream",
     "name": "stderr",
     "text": [
      "<ipython-input-23-ad15cd716565>:1: SADeprecationWarning: The Session.close_all() method is deprecated and will be removed in a future release.  Please refer to session.close_all_sessions().\n  s.close_all()\n"
     ]
    }
   ],
   "source": [
    "s.close_all()"
   ]
  },
  {
   "source": [
    "## Adding one to many relationships\n",
    "Remember that `children` is a property in the `Parent` class. You simply pass the children object to the parent object `children` property."
   ],
   "cell_type": "markdown",
   "metadata": {}
  },
  {
   "cell_type": "code",
   "execution_count": 21,
   "metadata": {},
   "outputs": [],
   "source": [
    "# Add the two nodes on respective tables\n",
    "parent = Parent(name=\"Fidel\")\n",
    "child  = Child(name=\"Fidelia\")\n",
    "\n",
    "try:\n",
    "    s.add(parent)\n",
    "    s.add(child)\n",
    "    parent.children.append(child) # Add relationship to the children property\n",
    "except:\n",
    "    s.rollback()\n",
    "    raise\n",
    "else:\n",
    "    s.commit()"
   ]
  },
  {
   "cell_type": "code",
   "execution_count": null,
   "metadata": {},
   "outputs": [],
   "source": []
  }
 ]
}