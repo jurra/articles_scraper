{
 "metadata": {
  "language_info": {
   "codemirror_mode": {
    "name": "ipython",
    "version": 3
   },
   "file_extension": ".py",
   "mimetype": "text/x-python",
   "name": "python",
   "nbconvert_exporter": "python",
   "pygments_lexer": "ipython3",
   "version": "3.7.10"
  },
  "orig_nbformat": 4,
  "kernelspec": {
   "name": "python3",
   "display_name": "Python 3.7.10 64-bit (conda)"
  },
  "interpreter": {
   "hash": "0120794aa21e724c1d3fae6f2fc986645e2919658e54fb7088892367dbf0a88e"
  }
 },
 "nbformat": 4,
 "nbformat_minor": 2,
 "cells": [
  {
   "cell_type": "code",
   "execution_count": 1,
   "metadata": {},
   "outputs": [],
   "source": [
    "from sqlalchemy import create_engine\n",
    "from config import config\n",
    "import pandas"
   ]
  },
  {
   "cell_type": "code",
   "execution_count": 3,
   "metadata": {},
   "outputs": [
    {
     "output_type": "execute_result",
     "data": {
      "text/plain": [
       "    country_id country_name\n",
       "0            1    Country 1\n",
       "1            2    Country 2\n",
       "2            3    Country 3\n",
       "3            4    Country 4\n",
       "4            5    Country 5\n",
       "..         ...          ...\n",
       "95          96   Country 96\n",
       "96          97   Country 97\n",
       "97          98   Country 98\n",
       "98          99   Country 99\n",
       "99         100  Country 100\n",
       "\n",
       "[100 rows x 2 columns]"
      ],
      "text/html": "<div>\n<style scoped>\n    .dataframe tbody tr th:only-of-type {\n        vertical-align: middle;\n    }\n\n    .dataframe tbody tr th {\n        vertical-align: top;\n    }\n\n    .dataframe thead th {\n        text-align: right;\n    }\n</style>\n<table border=\"1\" class=\"dataframe\">\n  <thead>\n    <tr style=\"text-align: right;\">\n      <th></th>\n      <th>country_id</th>\n      <th>country_name</th>\n    </tr>\n  </thead>\n  <tbody>\n    <tr>\n      <th>0</th>\n      <td>1</td>\n      <td>Country 1</td>\n    </tr>\n    <tr>\n      <th>1</th>\n      <td>2</td>\n      <td>Country 2</td>\n    </tr>\n    <tr>\n      <th>2</th>\n      <td>3</td>\n      <td>Country 3</td>\n    </tr>\n    <tr>\n      <th>3</th>\n      <td>4</td>\n      <td>Country 4</td>\n    </tr>\n    <tr>\n      <th>4</th>\n      <td>5</td>\n      <td>Country 5</td>\n    </tr>\n    <tr>\n      <th>...</th>\n      <td>...</td>\n      <td>...</td>\n    </tr>\n    <tr>\n      <th>95</th>\n      <td>96</td>\n      <td>Country 96</td>\n    </tr>\n    <tr>\n      <th>96</th>\n      <td>97</td>\n      <td>Country 97</td>\n    </tr>\n    <tr>\n      <th>97</th>\n      <td>98</td>\n      <td>Country 98</td>\n    </tr>\n    <tr>\n      <th>98</th>\n      <td>99</td>\n      <td>Country 99</td>\n    </tr>\n    <tr>\n      <th>99</th>\n      <td>100</td>\n      <td>Country 100</td>\n    </tr>\n  </tbody>\n</table>\n<p>100 rows × 2 columns</p>\n</div>"
     },
     "metadata": {},
     "execution_count": 3
    }
   ],
   "source": [
    "# Postgres username, password, and database name\n",
    "params = config()\n",
    "\n",
    "postgres_str = ('postgresql://{username}:{password}@{ipaddress}:{port}'\n",
    ".format(\n",
    "    username=params[\"user\"],\n",
    "    password=params[\"password\"],\n",
    "    ipaddress=params[\"host\"],\n",
    "    port=5332)\n",
    ")\n",
    "# Create the connection\n",
    "cnx = create_engine(postgres_str)\n",
    "df = pandas.read_sql_query('''SELECT * FROM country''', con=cnx)\n",
    "df"
   ]
  },
  {
   "cell_type": "code",
   "execution_count": null,
   "metadata": {},
   "outputs": [],
   "source": []
  }
 ]
}