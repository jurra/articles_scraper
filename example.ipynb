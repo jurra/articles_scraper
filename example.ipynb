{
 "metadata": {
  "language_info": {
   "codemirror_mode": {
    "name": "ipython",
    "version": 3
   },
   "file_extension": ".py",
   "mimetype": "text/x-python",
   "name": "python",
   "nbconvert_exporter": "python",
   "pygments_lexer": "ipython3",
   "version": "3.9.5"
  },
  "orig_nbformat": 4,
  "kernelspec": {
   "name": "python3",
   "display_name": "Python 3.9.5 64-bit"
  },
  "interpreter": {
   "hash": "916dbcbb3f70747c44a77c7bcd40155683ae19c65e1c03b4aa3499c5328201f1"
  }
 },
 "nbformat": 4,
 "nbformat_minor": 2,
 "cells": [
  {
   "cell_type": "code",
   "execution_count": 80,
   "source": [
    "from sqlalchemy.orm import sessionmaker\n",
    "import pandas\n",
    "from src.models import *\n",
    "\n",
    "from datetime import *"
   ],
   "outputs": [],
   "metadata": {}
  },
  {
   "cell_type": "code",
   "execution_count": 81,
   "source": [
    "# Create the connection\n",
    "engine = db_connect()\n",
    "create_table(engine)\n",
    "Session = sessionmaker(bind=engine)\n",
    "s = Session()"
   ],
   "outputs": [],
   "metadata": {}
  },
  {
   "cell_type": "code",
   "execution_count": 82,
   "source": [
    "# query articles in database\n",
    "articles = s.query(Article).all()\n",
    "\n",
    "df = pandas.read_sql(s.query(Article).statement, engine)\n",
    "df = df[['title', 'publishing_date', 'article_link']]\n",
    "df.head()\n"
   ],
   "outputs": [
    {
     "output_type": "execute_result",
     "data": {
      "text/html": [
       "<div>\n",
       "<style scoped>\n",
       "    .dataframe tbody tr th:only-of-type {\n",
       "        vertical-align: middle;\n",
       "    }\n",
       "\n",
       "    .dataframe tbody tr th {\n",
       "        vertical-align: top;\n",
       "    }\n",
       "\n",
       "    .dataframe thead th {\n",
       "        text-align: right;\n",
       "    }\n",
       "</style>\n",
       "<table border=\"1\" class=\"dataframe\">\n",
       "  <thead>\n",
       "    <tr style=\"text-align: right;\">\n",
       "      <th></th>\n",
       "      <th>title</th>\n",
       "      <th>publishing_date</th>\n",
       "      <th>article_link</th>\n",
       "    </tr>\n",
       "  </thead>\n",
       "  <tbody>\n",
       "    <tr>\n",
       "      <th>0</th>\n",
       "      <td>OCR and Machine Translation</td>\n",
       "      <td>{2021-01-06}</td>\n",
       "      <td>https://programminghistorian.org/en/lessons/OC...</td>\n",
       "    </tr>\n",
       "    <tr>\n",
       "      <th>1</th>\n",
       "      <td>Editing Audio with Audacity</td>\n",
       "      <td>{2016-08-05}</td>\n",
       "      <td>https://programminghistorian.org/en/lessons/ed...</td>\n",
       "    </tr>\n",
       "    <tr>\n",
       "      <th>2</th>\n",
       "      <td>Downloading Multiple Records Using Query Strings</td>\n",
       "      <td>{2012-11-11}</td>\n",
       "      <td>https://programminghistorian.org/en/lessons/do...</td>\n",
       "    </tr>\n",
       "    <tr>\n",
       "      <th>3</th>\n",
       "      <td>From HTML to List of Words (part 1)</td>\n",
       "      <td>{2012-07-17}</td>\n",
       "      <td>https://programminghistorian.org/en/lessons/fr...</td>\n",
       "    </tr>\n",
       "    <tr>\n",
       "      <th>4</th>\n",
       "      <td>From HTML to List of Words (part 2)</td>\n",
       "      <td>{2012-07-17}</td>\n",
       "      <td>https://programminghistorian.org/en/lessons/fr...</td>\n",
       "    </tr>\n",
       "  </tbody>\n",
       "</table>\n",
       "</div>"
      ],
      "text/plain": [
       "                                              title publishing_date  \\\n",
       "0                       OCR and Machine Translation    {2021-01-06}   \n",
       "1                       Editing Audio with Audacity    {2016-08-05}   \n",
       "2  Downloading Multiple Records Using Query Strings    {2012-11-11}   \n",
       "3               From HTML to List of Words (part 1)    {2012-07-17}   \n",
       "4               From HTML to List of Words (part 2)    {2012-07-17}   \n",
       "\n",
       "                                        article_link  \n",
       "0  https://programminghistorian.org/en/lessons/OC...  \n",
       "1  https://programminghistorian.org/en/lessons/ed...  \n",
       "2  https://programminghistorian.org/en/lessons/do...  \n",
       "3  https://programminghistorian.org/en/lessons/fr...  \n",
       "4  https://programminghistorian.org/en/lessons/fr...  "
      ]
     },
     "metadata": {},
     "execution_count": 82
    }
   ],
   "metadata": {}
  },
  {
   "cell_type": "code",
   "execution_count": 83,
   "source": [
    "articles = s.query(Article).count()\n",
    "authors = s.query(Author).count()\n",
    "# print the number of articles and authors\n",
    "print('There are {} articles in the database written by {} authors'.format(articles, authors))"
   ],
   "outputs": [
    {
     "output_type": "stream",
     "name": "stdout",
     "text": [
      "There are 172 articles in the database written by 86 authors\n"
     ]
    }
   ],
   "metadata": {}
  },
  {
   "cell_type": "code",
   "execution_count": 84,
   "source": [
    "# List authors\n",
    "authors = s.query(Author).all()\n",
    "\n",
    "# show all authors with pandas\n",
    "df = pandas.read_sql(s.query(Author).statement, engine)\n",
    "df"
   ],
   "outputs": [
    {
     "output_type": "execute_result",
     "data": {
      "text/html": [
       "<div>\n",
       "<style scoped>\n",
       "    .dataframe tbody tr th:only-of-type {\n",
       "        vertical-align: middle;\n",
       "    }\n",
       "\n",
       "    .dataframe tbody tr th {\n",
       "        vertical-align: top;\n",
       "    }\n",
       "\n",
       "    .dataframe thead th {\n",
       "        text-align: right;\n",
       "    }\n",
       "</style>\n",
       "<table border=\"1\" class=\"dataframe\">\n",
       "  <thead>\n",
       "    <tr style=\"text-align: right;\">\n",
       "      <th></th>\n",
       "      <th>id</th>\n",
       "      <th>name</th>\n",
       "    </tr>\n",
       "  </thead>\n",
       "  <tbody>\n",
       "    <tr>\n",
       "      <th>0</th>\n",
       "      <td>3</td>\n",
       "      <td>Andrew Akhlaghi</td>\n",
       "    </tr>\n",
       "    <tr>\n",
       "      <th>1</th>\n",
       "      <td>4</td>\n",
       "      <td>Adam Crymble</td>\n",
       "    </tr>\n",
       "    <tr>\n",
       "      <th>2</th>\n",
       "      <td>5</td>\n",
       "      <td>Stephen Krewson</td>\n",
       "    </tr>\n",
       "    <tr>\n",
       "      <th>3</th>\n",
       "      <td>6</td>\n",
       "      <td>Jim Clifford, Josh MacFadyen,  and Daniel Macf...</td>\n",
       "    </tr>\n",
       "    <tr>\n",
       "      <th>4</th>\n",
       "      <td>7</td>\n",
       "      <td>William J. Turkel and Adam Crymble</td>\n",
       "    </tr>\n",
       "    <tr>\n",
       "      <th>...</th>\n",
       "      <td>...</td>\n",
       "      <td>...</td>\n",
       "    </tr>\n",
       "    <tr>\n",
       "      <th>81</th>\n",
       "      <td>84</td>\n",
       "      <td>Brad Rittenhouse, Ximin Mi,  and Courtney Allen</td>\n",
       "    </tr>\n",
       "    <tr>\n",
       "      <th>82</th>\n",
       "      <td>85</td>\n",
       "      <td>Kellen Kurschinski</td>\n",
       "    </tr>\n",
       "    <tr>\n",
       "      <th>83</th>\n",
       "      <td>86</td>\n",
       "      <td>Amanda Visconti</td>\n",
       "    </tr>\n",
       "    <tr>\n",
       "      <th>84</th>\n",
       "      <td>87</td>\n",
       "      <td>Taylor Arnold and Lauren Tilton</td>\n",
       "    </tr>\n",
       "    <tr>\n",
       "      <th>85</th>\n",
       "      <td>88</td>\n",
       "      <td>Matthew J. Lavin</td>\n",
       "    </tr>\n",
       "  </tbody>\n",
       "</table>\n",
       "<p>86 rows × 2 columns</p>\n",
       "</div>"
      ],
      "text/plain": [
       "    id                                               name\n",
       "0    3                                    Andrew Akhlaghi\n",
       "1    4                                       Adam Crymble\n",
       "2    5                                    Stephen Krewson\n",
       "3    6  Jim Clifford, Josh MacFadyen,  and Daniel Macf...\n",
       "4    7                 William J. Turkel and Adam Crymble\n",
       "..  ..                                                ...\n",
       "81  84    Brad Rittenhouse, Ximin Mi,  and Courtney Allen\n",
       "82  85                                 Kellen Kurschinski\n",
       "83  86                                    Amanda Visconti\n",
       "84  87                    Taylor Arnold and Lauren Tilton\n",
       "85  88                                   Matthew J. Lavin\n",
       "\n",
       "[86 rows x 2 columns]"
      ]
     },
     "metadata": {},
     "execution_count": 84
    }
   ],
   "metadata": {}
  },
  {
   "cell_type": "code",
   "execution_count": 85,
   "source": [
    "# Look for all articles written by an author\n",
    "q = s.query(Article).join(Author, Article.authors).filter(Author.name == 'Adam Crymble')\n",
    "df = pandas.read_sql(q.statement, engine)\n",
    "df = df[['title', 'publishing_date']]\n",
    "df.head()"
   ],
   "outputs": [
    {
     "output_type": "execute_result",
     "data": {
      "text/html": [
       "<div>\n",
       "<style scoped>\n",
       "    .dataframe tbody tr th:only-of-type {\n",
       "        vertical-align: middle;\n",
       "    }\n",
       "\n",
       "    .dataframe tbody tr th {\n",
       "        vertical-align: top;\n",
       "    }\n",
       "\n",
       "    .dataframe thead th {\n",
       "        text-align: right;\n",
       "    }\n",
       "</style>\n",
       "<table border=\"1\" class=\"dataframe\">\n",
       "  <thead>\n",
       "    <tr style=\"text-align: right;\">\n",
       "      <th></th>\n",
       "      <th>title</th>\n",
       "      <th>publishing_date</th>\n",
       "    </tr>\n",
       "  </thead>\n",
       "  <tbody>\n",
       "    <tr>\n",
       "      <th>0</th>\n",
       "      <td>Using Gazetteers to Extract Sets of Keywords f...</td>\n",
       "      <td>{2015-12-01}</td>\n",
       "    </tr>\n",
       "    <tr>\n",
       "      <th>1</th>\n",
       "      <td>Downloading Multiple Records Using Query Strings</td>\n",
       "      <td>{2012-11-11}</td>\n",
       "    </tr>\n",
       "    <tr>\n",
       "      <th>2</th>\n",
       "      <td>Introduction to Gravity Models of Migration &amp; ...</td>\n",
       "      <td>{2019-03-18}</td>\n",
       "    </tr>\n",
       "  </tbody>\n",
       "</table>\n",
       "</div>"
      ],
      "text/plain": [
       "                                               title publishing_date\n",
       "0  Using Gazetteers to Extract Sets of Keywords f...    {2015-12-01}\n",
       "1   Downloading Multiple Records Using Query Strings    {2012-11-11}\n",
       "2  Introduction to Gravity Models of Migration & ...    {2019-03-18}"
      ]
     },
     "metadata": {},
     "execution_count": 85
    }
   ],
   "metadata": {}
  },
  {
   "cell_type": "code",
   "execution_count": 86,
   "source": [
    "# close session and connection\n",
    "s.close_all()"
   ],
   "outputs": [
    {
     "output_type": "stream",
     "name": "stderr",
     "text": [
      "<ipython-input-86-6665c2e8c0a8>:2: SADeprecationWarning: The Session.close_all() method is deprecated and will be removed in a future release.  Please refer to session.close_all_sessions().\n",
      "  s.close_all()\n"
     ]
    }
   ],
   "metadata": {}
  }
 ]
}