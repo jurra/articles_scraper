{
 "metadata": {
  "language_info": {
   "codemirror_mode": {
    "name": "ipython",
    "version": 3
   },
   "file_extension": ".py",
   "mimetype": "text/x-python",
   "name": "python",
   "nbconvert_exporter": "python",
   "pygments_lexer": "ipython3",
   "version": "3.9.5"
  },
  "orig_nbformat": 4,
  "kernelspec": {
   "name": "python3",
   "display_name": "Python 3.9.5 64-bit"
  },
  "interpreter": {
   "hash": "916dbcbb3f70747c44a77c7bcd40155683ae19c65e1c03b4aa3499c5328201f1"
  }
 },
 "nbformat": 4,
 "nbformat_minor": 2,
 "cells": [
  {
   "cell_type": "code",
   "execution_count": 1,
   "source": [
    "from sqlalchemy.orm import sessionmaker\n",
    "import pandas\n",
    "from src.models import *\n",
    "\n",
    "from datetime import *"
   ],
   "outputs": [],
   "metadata": {}
  },
  {
   "cell_type": "code",
   "execution_count": 2,
   "source": [
    "# Create the connection\n",
    "engine = db_connect()\n",
    "create_table(engine)\n",
    "Session = sessionmaker(bind=engine)\n",
    "s = Session()"
   ],
   "outputs": [],
   "metadata": {}
  },
  {
   "cell_type": "code",
   "execution_count": 3,
   "source": [
    "# query articles in database\n",
    "articles = s.query(Article).all()\n",
    "\n",
    "df = pandas.read_sql(s.query(Article).statement, engine)\n",
    "df = df[['title', 'publishing_date']]\n",
    "df.head()\n"
   ],
   "outputs": [
    {
     "output_type": "execute_result",
     "data": {
      "text/html": [
       "<div>\n",
       "<style scoped>\n",
       "    .dataframe tbody tr th:only-of-type {\n",
       "        vertical-align: middle;\n",
       "    }\n",
       "\n",
       "    .dataframe tbody tr th {\n",
       "        vertical-align: top;\n",
       "    }\n",
       "\n",
       "    .dataframe thead th {\n",
       "        text-align: right;\n",
       "    }\n",
       "</style>\n",
       "<table border=\"1\" class=\"dataframe\">\n",
       "  <thead>\n",
       "    <tr style=\"text-align: right;\">\n",
       "      <th></th>\n",
       "      <th>title</th>\n",
       "      <th>publishing_date</th>\n",
       "    </tr>\n",
       "  </thead>\n",
       "  <tbody>\n",
       "    <tr>\n",
       "      <th>0</th>\n",
       "      <td>OCR and Machine Translation</td>\n",
       "      <td>{2021-01-06}</td>\n",
       "    </tr>\n",
       "    <tr>\n",
       "      <th>1</th>\n",
       "      <td>Creating Mobile Augmented Reality Experiences ...</td>\n",
       "      <td>{2018-08-10}</td>\n",
       "    </tr>\n",
       "    <tr>\n",
       "      <th>2</th>\n",
       "      <td>Data Wrangling and Management in R</td>\n",
       "      <td>{2017-07-31}</td>\n",
       "    </tr>\n",
       "    <tr>\n",
       "      <th>3</th>\n",
       "      <td>Dealing with Big Data and Network Analysis Usi...</td>\n",
       "      <td>{2018-02-20}</td>\n",
       "    </tr>\n",
       "    <tr>\n",
       "      <th>4</th>\n",
       "      <td>Downloading Multiple Records Using Query Strings</td>\n",
       "      <td>{2012-11-11}</td>\n",
       "    </tr>\n",
       "  </tbody>\n",
       "</table>\n",
       "</div>"
      ],
      "text/plain": [
       "                                               title publishing_date\n",
       "0                        OCR and Machine Translation    {2021-01-06}\n",
       "1  Creating Mobile Augmented Reality Experiences ...    {2018-08-10}\n",
       "2                 Data Wrangling and Management in R    {2017-07-31}\n",
       "3  Dealing with Big Data and Network Analysis Usi...    {2018-02-20}\n",
       "4   Downloading Multiple Records Using Query Strings    {2012-11-11}"
      ]
     },
     "metadata": {},
     "execution_count": 3
    }
   ],
   "metadata": {}
  },
  {
   "cell_type": "code",
   "execution_count": 4,
   "source": [
    "# close session and connection\n",
    "s.close_all()"
   ],
   "outputs": [
    {
     "output_type": "stream",
     "name": "stderr",
     "text": [
      "<ipython-input-4-6665c2e8c0a8>:2: SADeprecationWarning: The Session.close_all() method is deprecated and will be removed in a future release.  Please refer to session.close_all_sessions().\n",
      "  s.close_all()\n"
     ]
    }
   ],
   "metadata": {}
  }
 ]
}